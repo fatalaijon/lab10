{
  "nbformat": 4,
  "nbformat_minor": 0,
  "metadata": {
    "colab": {
      "name": "219117_Lab10_NumPy2.ipynb",
      "provenance": []
    },
    "kernelspec": {
      "name": "python3",
      "display_name": "Python 3",
      "language": "python"
    },
    "language_info": {
      "name": "python",
      "version": "3.6.9-final"
    }
  },
  "cells": [
    {
      "cell_type": "markdown",
      "metadata": {
        "id": "Iw4gVtDjgg5V"
      },
      "source": [
        "# Lab 10 Part 2\n",
        "(1 point each)"
      ]
    },
    {
      "cell_type": "code",
      "metadata": {
        "id": "8Sx8EZnQTUeR"
      },
      "source": [
        "import numpy as np"
      ],
      "execution_count": 2,
      "outputs": []
    },
    {
      "cell_type": "markdown",
      "metadata": {
        "id": "bFJ2tTVgaKZx"
      },
      "source": [
        "## Array Creation\n",
        "\n",
        "Numpy provides many functions to create arrays. Assign the correct comment to each of the following instructions:"
      ]
    },
    {
      "cell_type": "code",
      "metadata": {
        "id": "8ss2yZe8aPTD"
      },
      "source": [
        "a = np.zeros((2,2))         # an array of all zeros\n",
        "b = np.ones((1,2))          # an array of all ones\n",
        "c = np.full((2,2), 7)       # a constant array\n",
        "d = np.eye(2)               # a 2x2 identity matrix\n",
        "e = np.random.random((2,2)) # an array filled with random values"
      ],
      "execution_count": null,
      "outputs": []
    },
    {
      "cell_type": "markdown",
      "metadata": {
        "id": "J3z_eeGdTLiB"
      },
      "source": [
        "## Element Selection\n",
        "\n",
        "Find indices of non-zero elements from `[1,2,0,0,4,0]`"
      ]
    },
    {
      "cell_type": "code",
      "metadata": {
        "id": "UYuPcUHGSmie"
      },
      "source": [
        "data = np.array([1,2,0,0,4,0])"
      ],
      "execution_count": null,
      "outputs": []
    },
    {
      "cell_type": "markdown",
      "metadata": {
        "id": "uiP1K_Y1T6Lh"
      },
      "source": [
        "Use *slicing* or *fancy indexing* to create a 2D array with 1 on the border and 0 inside"
      ]
    },
    {
      "cell_type": "code",
      "metadata": {
        "id": "S4TS_bQbTXWe",
        "outputId": "2884b559-172c-40af-c88f-10ff93932f23"
      },
      "source": [
        "size = 10\n",
        "a = np.zeros((size,size))\n",
        "# use a list as row/column index to perform assignment to each\n",
        "# value in the list\n",
        "a[[0,size-1], :] = 1\n",
        "a[:, [0,size-1]] = 1\n",
        "print(a)"
      ],
      "execution_count": null,
      "outputs": [
        {
          "output_type": "stream",
          "text": [
            "[[1. 1. 1. 1. 1. 1. 1. 1. 1. 1.]\n",
            " [1. 0. 0. 0. 0. 0. 0. 0. 0. 1.]\n",
            " [1. 0. 0. 0. 0. 0. 0. 0. 0. 1.]\n",
            " [1. 0. 0. 0. 0. 0. 0. 0. 0. 1.]\n",
            " [1. 0. 0. 0. 0. 0. 0. 0. 0. 1.]\n",
            " [1. 0. 0. 0. 0. 0. 0. 0. 0. 1.]\n",
            " [1. 0. 0. 0. 0. 0. 0. 0. 0. 1.]\n",
            " [1. 0. 0. 0. 0. 0. 0. 0. 0. 1.]\n",
            " [1. 0. 0. 0. 0. 0. 0. 0. 0. 1.]\n",
            " [1. 1. 1. 1. 1. 1. 1. 1. 1. 1.]]\n"
          ],
          "name": "stdout"
        }
      ]
    },
    {
      "cell_type": "markdown",
      "metadata": {
        "id": "C6B_-mF7U2aJ"
      },
      "source": [
        "Create a checkerboard (with values 1 and 0 inside) 10x10 matrix using the `tile` function"
      ]
    },
    {
      "cell_type": "code",
      "metadata": {
        "id": "0MM7cgYuVLwg",
        "outputId": "c55d41e1-822c-41a9-85e7-a5e9706f02ae"
      },
      "source": [
        "board = np.tile(np.eye(2, dtype=\"int\"), (5,5))\n",
        "print(board)"
      ],
      "execution_count": null,
      "outputs": [
        {
          "output_type": "stream",
          "text": [
            "[[1 0 1 0 1 0 1 0 1 0]\n",
            " [0 1 0 1 0 1 0 1 0 1]\n",
            " [1 0 1 0 1 0 1 0 1 0]\n",
            " [0 1 0 1 0 1 0 1 0 1]\n",
            " [1 0 1 0 1 0 1 0 1 0]\n",
            " [0 1 0 1 0 1 0 1 0 1]\n",
            " [1 0 1 0 1 0 1 0 1 0]\n",
            " [0 1 0 1 0 1 0 1 0 1]\n",
            " [1 0 1 0 1 0 1 0 1 0]\n",
            " [0 1 0 1 0 1 0 1 0 1]]\n"
          ],
          "name": "stdout"
        }
      ]
    },
    {
      "cell_type": "markdown",
      "metadata": {
        "id": "sQL0LkveV3td"
      },
      "source": [
        "Give an example code to sum a small array that runs faster than `np.sum`."
      ]
    },
    {
      "cell_type": "code",
      "metadata": {
        "id": "F11zqQWYWLQn",
        "outputId": "94a22588-08ba-46db-9bbd-efc77bcc7cf7",
        "colab": {
          "base_uri": "https://localhost:8080/"
        }
      },
      "source": [
        "a = np.arange(10)\n",
        "print(\"Perform np.sum(a)\")\n",
        "%timeit np.sum(a)\n",
        "# I have no idea what the answer should be.\n",
        "#\n",
        "# Blast from the Past:\n",
        "# Unroll the loop just like in the famous BLAS for Linpack?\n",
        "# Anything to save a microsecond :-)\n",
        "print(\"\\nPerform a[0]+a[1]+a[2]+...+a[9]\")\n",
        "%timeit (a[0]+a[1]+a[2]+a[3]+a[4]+a[5]+a[6]+a[7]+a[8]+a[9])"
      ],
      "execution_count": 5,
      "outputs": [
        {
          "output_type": "stream",
          "text": [
            "Perform np.sum(a)\n",
            "The slowest run took 137.20 times longer than the fastest. This could mean that an intermediate result is being cached.\n",
            "100000 loops, best of 5: 4.41 µs per loop\n",
            "\n",
            "Perform a[0]+a[1]+a[2]+...+a[9]\n",
            "The slowest run took 4.91 times longer than the fastest. This could mean that an intermediate result is being cached.\n",
            "100000 loops, best of 5: 2.37 µs per loop\n"
          ],
          "name": "stdout"
        }
      ]
    },
    {
      "cell_type": "markdown",
      "metadata": {
        "id": "91_GZfAmWv60"
      },
      "source": [
        "Write a code to plot both sine and cosine curves in the same plot with proper legend.\n",
        "\n",
        "Use the code below as a starting point."
      ]
    },
    {
      "cell_type": "code",
      "metadata": {
        "id": "DZ6Yfeaaa33O"
      },
      "source": [
        "import numpy as np\n",
        "import matplotlib.pyplot as plt\n",
        "# Compute the x and y coordinates for points on a sine curve\n",
        "x = np.arange(0, 3 * np.pi, 0.1)\n",
        "y1 = np.sin(x)\n",
        "y2 = np.cos(x)\n",
        "# Plot the points using matplotlib\n",
        "plt.plot(x, y1, color=\"blue\", linestyle='-', label=\"Sin\")\n",
        "plt.plot(x, y2, color=\"red\", linestyle='-', label=\"Cos\")\n",
        "plt.xlim(0, 3 * np.pi)\n",
        "plt.xticks(np.arange(0, 3*np.pi, 1))\n",
        "plt.xlabel('x')\n",
        "plt.ylabel('y')\n",
        "plt.title('Sine & Cosine')\n",
        "plt.legend(loc='lower left')\n",
        "plt.show()"
      ],
      "execution_count": null,
      "outputs": []
    },
    {
      "cell_type": "markdown",
      "metadata": {
        "id": "TcyicDwhbs7C"
      },
      "source": [
        "# Subplots"
      ]
    },
    {
      "cell_type": "markdown",
      "metadata": {
        "id": "EovHDLeSbxBJ"
      },
      "source": [
        "You can display different plots in the same figure using the subplots function. Here is an example:"
      ]
    },
    {
      "cell_type": "code",
      "metadata": {
        "id": "x_gtLI0wbzJ1"
      },
      "source": [
        "x = np.arange(0, 3 * np.pi, 0.1)\n",
        "y_sin = np.sin(x)\n",
        "y_cos = np.cos(x)\n",
        "fig, (ax1, ax2) = plt.subplots(nrows=2, sharex=True)\n",
        "ax1.plot(x, y_sin)\n",
        "ax1.set_xlim(0, 3 * np.pi)\n",
        "ax1.set_yticks([-1, 0, 1])\n",
        "pi = np.pi\n",
        "ax1.set_xticks(np.linspace(0, 3*pi, 7))\n",
        "ax1.set_xticklabels([\"0\",r\"$\\pi/2$\",r\"$\\pi$\",r\"$3\\pi/2$\",r\"$2\\pi$\",r\"$5\\pi/2$\",r\"$3\\pi$\"])\n",
        "ax1.set_title('Sine')\n",
        "ax2.plot(x, y_cos)\n",
        "ax2.set_yticks([-1, 0, 1])\n",
        "ax2.set_title('Cosine')\n",
        "fig.show()"
      ],
      "execution_count": null,
      "outputs": []
    },
    {
      "cell_type": "markdown",
      "metadata": {
        "id": "c2C1M5j-b9jM"
      },
      "source": [
        "Complete the above code to create a second subplot in the same grid representing the cosine function.\n",
        "This is how your result should look like.\n",
        "\n",
        "![image.png](data:image/png;base64,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)"
      ]
    },
    {
      "cell_type": "markdown",
      "metadata": {
        "id": "NmEwnVQGc0qF"
      },
      "source": [
        "# Plotting"
      ]
    },
    {
      "cell_type": "markdown",
      "metadata": {
        "id": "UXxNPyZ2c62c"
      },
      "source": [
        "Produce a plot of the functions $f(x)=e^{-x/10}\\sin(\\pi x)$ and $g(x)=xe^{−x/3}$ over the interval $[0, 10]$. Include labels for the x- and y-axes, and a legend explaining which line is which plot.\n",
        "\n",
        "Hint:\n",
        "*   `np.pi`\n",
        "*   `np.sin()`\n",
        "*   `np.exp()`\n",
        "\n"
      ]
    },
    {
      "cell_type": "code",
      "metadata": {
        "id": "mv2BpP0NdprB"
      },
      "source": [
        "# This is boring.  I'm tired of plotting sines and exponents."
      ],
      "execution_count": null,
      "outputs": []
    }
  ]
}