{
 "nbformat": 4,
 "nbformat_minor": 0,
 "metadata": {
  "colab": {
   "name": "219117_Lab10_NumPy1.ipynb",
   "provenance": [],
   "toc_visible": true,
   "authorship_tag": "ABX9TyNPY/HrfcHsp0q6LSauygO3"
  },
  "kernelspec": {
   "name": "python3",
   "display_name": "Python 3"
  },
  "language_info": {
   "name": "python"
  }
 },
 "cells": [
  {
   "cell_type": "markdown",
   "metadata": {
    "id": "1V0tl4um_pO0"
   },
   "source": [
    "# NumPy Simple arrays"
   ]
  },
  {
   "cell_type": "markdown",
   "metadata": {
    "id": "EHYwqWjfIf_9"
   },
   "source": [
    "Create a simple two dimensional array (2x3): odd numbers counting backwards on the first row, and even numbers on the second.\n",
    "(1 point)"
   ]
  },
  {
   "cell_type": "code",
   "metadata": {
    "colab": {
     "base_uri": "https://localhost:8080/"
    },
    "id": "O55MbfIC_YkG",
    "executionInfo": {
     "status": "ok",
     "timestamp": 1617240192868,
     "user_tz": -420,
     "elapsed": 1126,
     "user": {
      "displayName": "Piyamate WISANUVEJ",
      "photoUrl": "https://lh3.googleusercontent.com/a-/AOh14GgGyz5pcOA5MrLLDuez3yniOmg59L5lFBnZk9PL=s64",
      "userId": "04229335614456673858"
     }
    },
    "outputId": "cd1a23fe-89ed-4830-a7a3-229ba09fd263"
   },
   "source": [
    "import numpy as np"
   ],
   "execution_count": null,
   "outputs": [
    {
     "output_type": "execute_result",
     "data": {
      "text/plain": [
       "array([[5, 3, 1],\n",
       "       [4, 2, 0]])"
      ]
     },
     "metadata": {
      "tags": []
     },
     "execution_count": 8
    }
   ]
  },
  {
   "cell_type": "markdown",
   "metadata": {
    "id": "P87saIyfB6gM"
   },
   "source": [
    "\n",
    "# Creating arrays using functions"
   ]
  },
  {
   "cell_type": "markdown",
   "metadata": {
    "id": "3K0seFFMIioo"
   },
   "source": [
    "Experiment with `arange`, `linspace`, `ones`, `zeros`, `eye` and `diag`.\n",
    "Create different kinds of arrays with random numbers. Try setting the seed before creating an array with random values.\n",
    "(1 point)"
   ]
  },
  {
   "cell_type": "code",
   "metadata": {
    "id": "Or3ijhMdCOAV"
   },
   "source": [
    "\"\"\"0 to 100 by 5\"\"\"\n",
    "fives = np.arange(0,100,5)\n",
    "fives\n",
    "\"\"\"51 points from 0.0 to 1000.0\"\"\"\n",
    "x = np.linspace(0, 1000, num=51, dtype=np.float64)\n",
    "x\n",
    "\"\"\"5 x 5 matrix of ones\"\"\"\n",
    "np.ones([5, 5])\n",
    "\"\"\"10 x 10 identity matrix\"\"\"\n",
    "np.eye(10)\n",
    "\"\"\"3 x 4 matrix of uniform random values\"\"\"\n",
    "rand = np.random.random((3,4))\n",
    "\"\"\"diagonal values from the matrix\"\"\"\n",
    "np.diag(rand)"
   ],
   "execution_count": null,
   "outputs": []
  },
  {
   "cell_type": "markdown",
   "metadata": {
    "id": "aaNwSjUECHfX"
   },
   "source": [
    "Look at the function np.empty. What does it do? When might this be useful?\n",
    "(1 point)"
   ]
  },
  {
   "cell_type": "markdown",
   "metadata": {
    "id": "xpbHZo_9CmFZ"
   },
   "source": [
    "Your answer:\n",
    "`numpy.empty` returns an empty array without any initial values.\n",
    "The programmer can specify the data type of values and whether elements\n",
    "should be stored in row-major or column-major order.\n",
    "\n",
    "The function is useful when you want to programmatically set each element of\n",
    "an array.  In this case `empty` is faster than `zeros` for creating the array.\n",
    "\n",
    "If you intend to access data in the array column-by-column,\n",
    "then using `empty(..., order=\"F\")`to specify column-major\n",
    "ordering may make accessing the data *much* faster\n",
    "for a large array."
   ]
  },
  {
   "cell_type": "markdown",
   "metadata": {
    "id": "B1pSLanZCoyd"
   },
   "source": [
    "# Simple visualizations"
   ]
  },
  {
   "cell_type": "markdown",
   "metadata": {
    "id": "9WAW_KCJImCQ"
   },
   "source": [
    "Plot 2 simple arrays:\n",
    "1.   a cosine as a function of time (1 point)\n",
    "2.   2D matrix using the gray colormap on the 2D matrix `cmap=plt.cm.gray` (1 point)"
   ]
  },
  {
   "cell_type": "code",
   "metadata": {
    "id": "WiJR_9V9CoNm"
   },
   "source": [
    "import matlibplot.pyplot as plt\n",
    "t = np.linspace(0,2*np.pi,100)\n",
    "y = np.cos(t)\n",
    "plt.plot(t, y, '-')\n",
    "plt.xlabel(\"t\")\n",
    "plt.ylabel(\"cos(t)\")\n",
    "plt.title(\"Plot of cosine\")\n",
    "plt.tight_layout()\n",
    "plt.show()"
   ],
   "execution_count": null,
   "outputs": []
  },
  {
   "cell_type": "markdown",
   "metadata": {
    "id": "5zLSzJ3rEs-L"
   },
   "source": [
    "# Indexing and slicing"
   ]
  },
  {
   "cell_type": "markdown",
   "metadata": {
    "id": "mn2ggIhPIo7p"
   },
   "source": [
    "Try the different flavors of slicing, using start, end and step:\n",
    "\n",
    "1.   starting from a linspace, try to obtain odd numbers counting backward (1 point)\n",
    "2.   even numbers counting forwards (1 point)"
   ]
  },
  {
   "cell_type": "code",
   "metadata": {
    "id": "aHo-wSQPFMSE"
   },
   "source": [
    "odds = np.arange(101,1,-2)   # easy way\n",
    "odds = np.linspace(101, 1, num=51) # num=(end-start)/2 + 1\n",
    "evens = np.linspace(2, 100, num=50)\n"
   ],
   "execution_count": null,
   "outputs": []
  },
  {
   "cell_type": "markdown",
   "metadata": {
    "id": "rsW_LsOAFRRJ"
   },
   "source": [
    "# Array creation"
   ]
  },
  {
   "cell_type": "markdown",
   "metadata": {
    "id": "LrRPPvjFIstl"
   },
   "source": [
    "Create the following arrays using only 3 statements for each (with correct data types):\n",
    "\n",
    "Hint: Individual array elements can be accessed similarly to a list, e.g. `a[1]` or `a[1, 2]`.\n",
    "\n",
    "Hint: Examine the docstring for diag.\n",
    "\n",
    "1. (1 point)\n",
    "\n",
    "```\n",
    "[[1, 1, 1, 1],\n",
    " [1, 1, 1, 1],\n",
    " [1, 1, 1, 2],\n",
    " [1, 6, 1, 1]]\n",
    "```"
   ]
  },
  {
   "cell_type": "code",
   "metadata": {
    "id": "ts7PgYY5FPqd"
   },
   "source": [
    "a = np.ones((4,4))\n",
    "a[2,3] = 2\n",
    "a[3,1] = 6"
   ],
   "execution_count": null,
   "outputs": []
  },
  {
   "cell_type": "markdown",
   "metadata": {
    "id": "4eO9WQzmIvlT"
   },
   "source": [
    "2. (1 point)\n",
    "```\n",
    "[[0., 0., 0., 0., 0.],\n",
    " [2., 0., 0., 0., 0.],\n",
    " [0., 3., 0., 0., 0.],\n",
    " [0., 0., 4., 0., 0.],\n",
    " [0., 0., 0., 5., 0.],\n",
    " [0., 0., 0., 0., 6.]]\n",
    "```"
   ]
  },
  {
   "cell_type": "code",
   "metadata": {
    "id": "QQBQQdjaIwQq"
   },
   "source": [
    "v = np.arange(2,7)\n",
    "a = np.diag(v, -1) # k<0 for diags below main diagonal"
   ],
   "execution_count": null,
   "outputs": []
  },
  {
   "cell_type": "markdown",
   "metadata": {
    "id": "2oPw06ZWFx01"
   },
   "source": [
    "# Tiling for array creation"
   ]
  },
  {
   "cell_type": "markdown",
   "metadata": {
    "id": "JKjeaQCWIzt2"
   },
   "source": [
    "Skim through the documentation for `np.tile`, and use this function to construct the array:\n",
    "(1 point)\n",
    "\n",
    "```\n",
    "[[4, 3, 4, 3, 4, 3],\n",
    " [2, 1, 2, 1, 2, 1],\n",
    " [4, 3, 4, 3, 4, 3],\n",
    " [2, 1, 2, 1, 2, 1]]\n",
    "```"
   ]
  },
  {
   "cell_type": "code",
   "metadata": {
    "id": "W4_gntgPI0bp"
   },
   "source": [
    "a = np.arange(4, 0, -1).reshape(2,2)\n",
    "tile_a = np.tile(a, (2,3))"
   ],
   "execution_count": null,
   "outputs": []
  },
  {
   "cell_type": "markdown",
   "metadata": {
    "id": "YurytDc9F8uj"
   },
   "source": [
    "# Prime number sieve"
   ]
  },
  {
   "cell_type": "markdown",
   "metadata": {
    "id": "XO2jMo9pGCBT"
   },
   "source": [
    "![image.png](data:image/png;base64,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)"
   ]
  },
  {
   "cell_type": "markdown",
   "metadata": {
    "id": "Z0U77pXXGGO4"
   },
   "source": [
    "Compute prime numbers in 0–99, with a sieve\n",
    "\n",
    "*   Construct a shape (100,) boolean array `is_prime`, filled with True in the beginning:"
   ]
  },
  {
   "cell_type": "code",
   "metadata": {
    "id": "ukrMBtRcGJV9"
   },
   "source": [
    "import numpy as np\n",
    "import math\n",
    "\n",
    "def find_primes(max_value):\n",
    "    \"\"\"Find all prime numbers from 1 to max_value (int)\"\"\"\n",
    "    # is_prime[k] is True if k is a prime number\n",
    "    is_prime = np.ones(max_value+1, dtype=\"bool\")\n",
    "    # 0 and 1 are not prime numbers\n",
    "    is_prime[0:2] = False\n",
    "    for k in range(2, int(math.sqrt(len(is_prime))+1)):\n",
    "        # if k itself is not a prime then nothing to do\n",
    "        if is_prime[k]:\n",
    "            is_prime[k+k::k] = False\n",
    "    return np.nonzero(is_prime)[0]\n",
    "\n",
    "max_value = 100\n",
    "print(f\"Prime numbers from 1 to {max_value} are\")\n",
    "primes = find_primes(max_value)\n",
    "print(primes)\n"
   ],
   "execution_count": null,
   "outputs": []
  },
  {
   "cell_type": "markdown",
   "metadata": {
    "id": "Et7czUM1GKOr"
   },
   "source": [
    "*   Cross out 0 and 1 which are not primes:"
   ]
  },
  {
   "cell_type": "code",
   "metadata": {
    "id": "OgM3evw5GSJY"
   },
   "source": [
    "is_prime[:2] = 0\n",
    "is_prime"
   ],
   "execution_count": null,
   "outputs": []
  },
  {
   "cell_type": "markdown",
   "metadata": {
    "id": "4LqzZIDqfxtC"
   },
   "source": [
    ""
   ]
  },
  {
   "cell_type": "markdown",
   "metadata": {
    "id": "cYfL_bdVGTT8"
   },
   "source": [
    "*   For each integer j starting from 2, cross out its higher multiples:"
   ]
  },
  {
   "cell_type": "code",
   "metadata": {
    "id": "Wh70q0yIGYZZ"
   },
   "source": [
    "N_max = int(np.sqrt(len(is_prime) - 1))\n",
    "for j in range(2, N_max + 1):\n",
    "    is_prime[2*j::j] = False\n",
    "is_prime"
   ],
   "execution_count": null,
   "outputs": []
  },
  {
   "cell_type": "markdown",
   "metadata": {
    "id": "HBoIZ9yxGj5z"
   },
   "source": [
    "*   Skim through `help(np.nonzero)`, and print the prime numbers\n",
    "(1 point)"
   ]
  },
  {
   "cell_type": "code",
   "metadata": {
    "id": "f3E_qa67H0ve"
   },
   "source": [
    ""
   ],
   "execution_count": null,
   "outputs": []
  },
  {
   "cell_type": "markdown",
   "metadata": {
    "id": "AEqjupcXH2Je"
   },
   "source": [
    "*   (4 point) Task: use the optimization suggested in the [sieve of Eratosthenes](https://en.wikipedia.org/wiki/Sieve_of_Eratosthenes):\n",
    "  1.   Skip `j` which are already known to not be primes\n",
    "  2.   The first number to cross out is j^2"
   ]
  },
  {
   "cell_type": "code",
   "metadata": {
    "id": "K8ONCym4IE9f"
   },
   "source": [
    ""
   ],
   "execution_count": null,
   "outputs": []
  }
 ]
}